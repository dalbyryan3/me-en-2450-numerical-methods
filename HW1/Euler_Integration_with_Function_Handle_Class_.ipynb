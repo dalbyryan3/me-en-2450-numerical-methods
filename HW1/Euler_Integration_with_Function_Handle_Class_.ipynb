{
 "cells": [
  {
   "cell_type": "code",
   "execution_count": 281,
   "metadata": {},
   "outputs": [
    {
     "data": {
      "text/html": [
       "<script>requirejs.config({paths: { 'plotly': ['https://cdn.plot.ly/plotly-latest.min']},});if(!window.Plotly) {{require(['plotly'],function(plotly) {window.Plotly=plotly;});}}</script>"
      ],
      "text/vnd.plotly.v1+html": [
       "<script>requirejs.config({paths: { 'plotly': ['https://cdn.plot.ly/plotly-latest.min']},});if(!window.Plotly) {{require(['plotly'],function(plotly) {window.Plotly=plotly;});}}</script>"
      ]
     },
     "metadata": {},
     "output_type": "display_data"
    }
   ],
   "source": [
    "from plotly.offline import download_plotlyjs, init_notebook_mode, plot, iplot\n",
    "import plotly.graph_objs as go\n",
    "init_notebook_mode(connected=True)"
   ]
  },
  {
   "cell_type": "code",
   "execution_count": 282,
   "metadata": {},
   "outputs": [],
   "source": [
    "from __future__ import print_function\n",
    "from ipywidgets import interact, interactive, fixed, interact_manual\n",
    "import ipywidgets as widgets"
   ]
  },
  {
   "cell_type": "code",
   "execution_count": 283,
   "metadata": {},
   "outputs": [],
   "source": [
    "import numpy as np\n",
    "import math"
   ]
  },
  {
   "cell_type": "code",
   "execution_count": 284,
   "metadata": {},
   "outputs": [],
   "source": [
    "# Numerical parameters\n",
    "v_o = 0"
   ]
  },
  {
   "cell_type": "code",
   "execution_count": 285,
   "metadata": {},
   "outputs": [],
   "source": [
    "# Physical variables\n",
    "g = 9.81\n",
    "c = 0.5"
   ]
  },
  {
   "cell_type": "code",
   "execution_count": 286,
   "metadata": {},
   "outputs": [],
   "source": [
    "# This is the derived equation for acceleration\n",
    "def get_a_vacm(v, g, m, c):\n",
    "    \n",
    "    a = g\n",
    "    \n",
    "    return a"
   ]
  },
  {
   "cell_type": "code",
   "execution_count": 287,
   "metadata": {},
   "outputs": [],
   "source": [
    "# This is the derived equation for acceleration\n",
    "def get_a_visc(v, g, m, c):\n",
    "    \n",
    "    drag = c * v / m\n",
    "    \n",
    "    if drag > g:\n",
    "        print(\"Houston, we have a problem!\")\n",
    "    else:\n",
    "        # looking good, keeping moving along\n",
    "        pass\n",
    "    \n",
    "    a = g - drag\n",
    "    \n",
    "    return a"
   ]
  },
  {
   "cell_type": "code",
   "execution_count": 288,
   "metadata": {},
   "outputs": [],
   "source": [
    "# This is the known solution, which serves as verification of our Euler Method implementation\n",
    "def get_v_vacm(params):\n",
    "    \n",
    "    assert len(params) is 2, \"Vacuum velocity computation requires 2 parameters!\"\n",
    "    \n",
    "    t, g = params\n",
    "    \n",
    "    assert c > 0, \"Divide by 0 error when c <= 0\"\n",
    "    \n",
    "    v = g * t\n",
    "    \n",
    "    return v"
   ]
  },
  {
   "cell_type": "code",
   "execution_count": 289,
   "metadata": {},
   "outputs": [],
   "source": [
    "# This is the known solution, which serves as verification of our Euler Method implementation\n",
    "def get_v_visc(params):\n",
    "    \n",
    "    assert len(params) is 4, \"Viscous velocity computation requires 4 parameters!\"\n",
    "    \n",
    "    t, g, m, c = params\n",
    "    \n",
    "    assert c > 0, \"Divide by 0 error when c <= 0\"\n",
    "    \n",
    "    v = g * m / c * (1.0 - np.exp(-c * t / m))\n",
    "    \n",
    "    return v"
   ]
  },
  {
   "cell_type": "code",
   "execution_count": 290,
   "metadata": {},
   "outputs": [],
   "source": [
    "# This is an implementation of euler method for integrating an initial value problem\n",
    "def euler(ode, t, v_o, h, g, m, c):\n",
    "    \n",
    "    # input your euler method code here, using 'ode' as a function handle"
   ]
  },
  {
   "cell_type": "code",
   "execution_count": 291,
   "metadata": {},
   "outputs": [],
   "source": [
    "# This returns the analytical solution data to plot\n",
    "def get_soln(ode, t, g, m, c):\n",
    "   \n",
    "    if ode is get_a_vacm:\n",
    "        params = [t, g]\n",
    "        get_v = lambda params: get_v_vacm(params)\n",
    "    else:\n",
    "        params = [t, g, m, c]\n",
    "        get_v = lambda params: get_v_visc(params)\n",
    "        \n",
    "    return get_v(params)"
   ]
  },
  {
   "cell_type": "code",
   "execution_count": 292,
   "metadata": {},
   "outputs": [],
   "source": [
    "# This function simply calls those above and plots the computed data\n",
    "def plot_v(ode, m, c, h):\n",
    "    \n",
    "    # get known solution data\n",
    "    t = np.arange(0,10,0.1)\n",
    "    v = get_soln(ode, t, g, m, c)\n",
    "    \n",
    "    # get approximate solution data\n",
    "    t_discrt = np.arange(0,10+h,h)\n",
    "    v_approx = euler(ode, t_discrt, v_o, h, g, m, c)\n",
    "    \n",
    "    # plot both datasets\n",
    "    plot_v = go.Scatter(name='solution', x=t, y=v)\n",
    "    plot_v_approx = go.Scatter(name='euler approx.', x=t_discrt, y=v_approx)\n",
    "        \n",
    "    iplot([plot_v, plot_v_approx])"
   ]
  },
  {
   "cell_type": "code",
   "execution_count": 293,
   "metadata": {},
   "outputs": [
    {
     "data": {
      "application/vnd.jupyter.widget-view+json": {
       "model_id": "797efe356ea94c1d96a693e861297ab7",
       "version_major": 2,
       "version_minor": 0
      },
      "text/plain": [
       "aW50ZXJhY3RpdmUoY2hpbGRyZW49KERyb3Bkb3duKGRlc2NyaXB0aW9uPXUnb2RlJywgb3B0aW9ucz17J3Zpc2NvdXMnOiA8ZnVuY3Rpb24gZ2V0X2FfdmlzYyBhdCAweDAwMDAwMDAwMERDOTnigKY=\n"
      ]
     },
     "metadata": {},
     "output_type": "display_data"
    }
   ],
   "source": [
    "# Define the variables that can be interacted with\n",
    "w = interact(plot_v, m=(1, 10, 1), c=(0.0, 1, 0.1), h=(0.1, 5, 0.1), ode={'vacuum':get_a_vacm,'viscous':get_a_visc})"
   ]
  },
  {
   "cell_type": "code",
   "execution_count": null,
   "metadata": {},
   "outputs": [],
   "source": []
  }
 ],
 "metadata": {
  "kernelspec": {
   "display_name": "Python 2",
   "language": "python",
   "name": "python2"
  },
  "language_info": {
   "codemirror_mode": {
    "name": "ipython",
    "version": 2
   },
   "file_extension": ".py",
   "mimetype": "text/x-python",
   "name": "python",
   "nbconvert_exporter": "python",
   "pygments_lexer": "ipython2",
   "version": "2.7.15"
  }
 },
 "nbformat": 4,
 "nbformat_minor": 2
}
