{
 "cells": [
  {
   "cell_type": "code",
   "execution_count": 240,
   "metadata": {},
   "outputs": [
    {
     "data": {
      "text/html": [
       "<script>requirejs.config({paths: { 'plotly': ['https://cdn.plot.ly/plotly-latest.min']},});if(!window.Plotly) {{require(['plotly'],function(plotly) {window.Plotly=plotly;});}}</script>"
      ],
      "text/vnd.plotly.v1+html": [
       "<script>requirejs.config({paths: { 'plotly': ['https://cdn.plot.ly/plotly-latest.min']},});if(!window.Plotly) {{require(['plotly'],function(plotly) {window.Plotly=plotly;});}}</script>"
      ]
     },
     "metadata": {},
     "output_type": "display_data"
    }
   ],
   "source": [
    "from plotly.offline import download_plotlyjs, init_notebook_mode, plot, iplot\n",
    "import plotly.graph_objs as go\n",
    "init_notebook_mode(connected=True)"
   ]
  },
  {
   "cell_type": "code",
   "execution_count": 241,
   "metadata": {},
   "outputs": [],
   "source": [
    "from __future__ import print_function\n",
    "from ipywidgets import interact, interactive, fixed, interact_manual\n",
    "import ipywidgets as widgets"
   ]
  },
  {
   "cell_type": "code",
   "execution_count": 242,
   "metadata": {},
   "outputs": [],
   "source": [
    "import numpy as np\n",
    "from scipy import optimize\n",
    "import math"
   ]
  },
  {
   "cell_type": "code",
   "execution_count": 243,
   "metadata": {},
   "outputs": [],
   "source": [
    "# functions for which to analyze the root\n",
    "fx = lambda x : x**3.0 - 13.0*x - 12\n",
    "\n",
    "# parabola equation, fit to 3 points\n",
    "px = lambda x, x2, a, b, c : a * (x - x2)**2.0 + b * (x - x2) + c"
   ]
  },
  {
   "cell_type": "code",
   "execution_count": 244,
   "metadata": {},
   "outputs": [],
   "source": [
    "def muller(fun, xr, h, maxiter=10, tol=.01, go_to_max=False):\n",
    "        \n",
    "    # initial guesses, middle point defined, left and right offset by h * xr\n",
    "    x2 = xr\n",
    "    x1 = xr + h * xr\n",
    "    x0 = xr - h *c xr\n",
    "    \n",
    "    # other initialized variables\n",
    "    cur_iter = 0\n",
    "    converged = False\n",
    "    \n",
    "    print(\"xr \\t \\t rel. approx. err.\")\n",
    "    \n",
    "    # iterative loop\n",
    "    while cur_iter < maxiter:   \n",
    "        \n",
    "        # update counter\n",
    "        cur_iter += 1\n",
    "        \n",
    "        h0 = x1 - x0\n",
    "        h1 = x2 - x1\n",
    "        d0 = (fun(x1) - fun(x0)) / h0\n",
    "        d1 = (fun(x2) - fun(x1)) / h1\n",
    "        a = (d1 - d0) / (h1 + h0)\n",
    "        b = a * h1 + d1\n",
    "        c = fun(x2)\n",
    "        rad = math.sqrt(b * b - 4.0 * a * c)\n",
    "        \n",
    "        if math.fabs(b + rad) > math.fabs(b - rad):\n",
    "            den = b + rad\n",
    "        else:\n",
    "            den = b - rad\n",
    "        \n",
    "        dxr = -2.0 * c / den\n",
    "        xr = x2 + dxr\n",
    "        \n",
    "        if not go_to_max:\n",
    "            if math.fabs((xr - x2)/xr) < tol:  \n",
    "                converged = True\n",
    "                print(round(xr,5), \"\\t\", round(math.fabs((xr - x2)/xr) * 100.0,5))\n",
    "                return converged, xr, cur_iter, x0, x1, x2, a, b, c\n",
    "        \n",
    "        print(round(xr,5), \"\\t\", round(math.fabs((xr - x2)/xr) * 100.0,5))\n",
    "        \n",
    "        x0 = x1\n",
    "        x1 = x2\n",
    "        x2 = xr\n",
    "                \n",
    "    return converged, xr, cur_iter, x0, x1, x2, a, b, c"
   ]
  },
  {
   "cell_type": "code",
   "execution_count": 245,
   "metadata": {},
   "outputs": [],
   "source": [
    "def roots_demo(a, b, xr, h, maxiters, tol):\n",
    "    \n",
    "    # print true solution\n",
    "    r = optimize.root(fx, xr)\n",
    "    true_root = r.x[0]\n",
    "    print(\"True root = %f\" % true_root)\n",
    "    \n",
    "    x_vals = np.arange(a, b, 0.1)\n",
    "    fx_vals = np.empty(x_vals.shape)\n",
    "    \n",
    "    # this could be done with numpy broadcast for efficiency\n",
    "    # doing explicit loop to illustrate computational detail\n",
    "    for idx, x in np.ndenumerate(x_vals):\n",
    "        fx_vals[idx] = fx(x)\n",
    "        \n",
    "    fx_vals_plot = go.Scatter(x=x_vals, y=fx_vals, name='fx', line = dict(color = 'rgb(255, 0, 0)'))\n",
    "    \n",
    "    converged, approx_root, cur_iter, x0, x1, x2, a, b, c = muller(fx, xr, h, maxiter=maxiters, tol=tol, go_to_max=False)\n",
    "    if converged:\n",
    "        print(\"Converged!\")\n",
    "        \n",
    "    px_vals = np.empty(x_vals.shape)\n",
    "    for idx, x in np.ndenumerate(x_vals):\n",
    "        px_vals[idx] = px(x, x1, a, b, c)\n",
    "        \n",
    "    px_vals_plot = go.Scatter(x=x_vals, y=px_vals, name='px', line = dict(color = 'rgb(0, 0, 255)'))\n",
    "        \n",
    "    approx = go.Scatter(x=np.array([approx_root]), y=np.array([fx(approx_root)]), mode='markers', name='current root')\n",
    "    \n",
    "    layout = go.Layout(xaxis=dict(title='Fixed Point Iterations'))\n",
    "    plot_data = [px_vals_plot, fx_vals_plot, approx]\n",
    "    comp_fig = go.Figure(data=plot_data, layout=layout)\n",
    "    \n",
    "    iplot(comp_fig)\n",
    "    "
   ]
  },
  {
   "cell_type": "code",
   "execution_count": 246,
   "metadata": {
    "scrolled": false
   },
   "outputs": [
    {
     "data": {
      "application/vnd.jupyter.widget-view+json": {
       "model_id": "aecbd4514adf4971b94b3abf1cbbc86a",
       "version_major": 2,
       "version_minor": 0
      },
      "text/plain": [
       "aW50ZXJhY3RpdmUoY2hpbGRyZW49KEludFNsaWRlcih2YWx1ZT0tMywgZGVzY3JpcHRpb249dSdhJywgbWF4PTAsIG1pbj0tNSksIEludFNsaWRlcih2YWx1ZT00LCBkZXNjcmlwdGlvbj11J2LigKY=\n"
      ]
     },
     "metadata": {},
     "output_type": "display_data"
    }
   ],
   "source": [
    "w = interact(roots_demo, a=(-5,0,1), b=(1,7,1), xr=(-5,7,1), h=(0.02,0.5,0.02), maxiters=(1,20,1), tol=(1e-6, 1, 1e-1))"
   ]
  }
 ],
 "metadata": {
  "kernelspec": {
   "display_name": "Python 3",
   "language": "python",
   "name": "python3"
  },
  "language_info": {
   "codemirror_mode": {
    "name": "ipython",
    "version": 3
   },
   "file_extension": ".py",
   "mimetype": "text/x-python",
   "name": "python",
   "nbconvert_exporter": "python",
   "pygments_lexer": "ipython3",
   "version": "3.6.5"
  }
 },
 "nbformat": 4,
 "nbformat_minor": 2
}
