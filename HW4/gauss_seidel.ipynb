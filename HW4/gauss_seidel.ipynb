{
 "cells": [
  {
   "cell_type": "code",
   "execution_count": 3,
   "metadata": {},
   "outputs": [
    {
     "ename": "ModuleNotFoundError",
     "evalue": "No module named 'plotly'",
     "output_type": "error",
     "traceback": [
      "\u001b[1;31m---------------------------------------------------------------------------\u001b[0m",
      "\u001b[1;31mModuleNotFoundError\u001b[0m                       Traceback (most recent call last)",
      "\u001b[1;32m<ipython-input-3-669762277c15>\u001b[0m in \u001b[0;36m<module>\u001b[1;34m()\u001b[0m\n\u001b[1;32m----> 1\u001b[1;33m \u001b[1;32mfrom\u001b[0m \u001b[0mplotly\u001b[0m\u001b[1;33m.\u001b[0m\u001b[0moffline\u001b[0m \u001b[1;32mimport\u001b[0m \u001b[0mdownload_plotlyjs\u001b[0m\u001b[1;33m,\u001b[0m \u001b[0minit_notebook_mode\u001b[0m\u001b[1;33m,\u001b[0m \u001b[0mplot\u001b[0m\u001b[1;33m,\u001b[0m \u001b[0miplot\u001b[0m\u001b[1;33m\u001b[0m\u001b[0m\n\u001b[0m\u001b[0;32m      2\u001b[0m \u001b[1;32mimport\u001b[0m \u001b[0mplotly\u001b[0m\u001b[1;33m.\u001b[0m\u001b[0mgraph_objs\u001b[0m \u001b[1;32mas\u001b[0m \u001b[0mgo\u001b[0m\u001b[1;33m\u001b[0m\u001b[0m\n\u001b[0;32m      3\u001b[0m \u001b[0minit_notebook_mode\u001b[0m\u001b[1;33m(\u001b[0m\u001b[0mconnected\u001b[0m\u001b[1;33m=\u001b[0m\u001b[1;32mTrue\u001b[0m\u001b[1;33m)\u001b[0m\u001b[1;33m\u001b[0m\u001b[0m\n",
      "\u001b[1;31mModuleNotFoundError\u001b[0m: No module named 'plotly'"
     ]
    }
   ],
   "source": [
    "from plotly.offline import download_plotlyjs, init_notebook_mode, plot, iplot\n",
    "import plotly.graph_objs as go\n",
    "init_notebook_mode(connected=True)"
   ]
  },
  {
   "cell_type": "code",
   "execution_count": 469,
   "metadata": {},
   "outputs": [],
   "source": [
    "from __future__ import print_function\n",
    "from ipywidgets import interact, interactive, fixed, interact_manual\n",
    "import ipywidgets as widgets"
   ]
  },
  {
   "cell_type": "code",
   "execution_count": 470,
   "metadata": {},
   "outputs": [],
   "source": [
    "import numpy as np"
   ]
  },
  {
   "cell_type": "code",
   "execution_count": 471,
   "metadata": {},
   "outputs": [],
   "source": [
    "def gauss_seidel(A, b, lam=1.0, tol=1e-6, maxiter=50, method='gauss-seidel'):\n",
    "    # Gauss-Seidel and Jacobi method to solve [A]{x}={b} (with relaxation)\n",
    "    # matrix A must be in diagonally dominant form to ensure convergence\n",
    "    # See Figure 11.6 in Chapra textbook\n",
    "    \n",
    "    n = b.shape[0]\n",
    "    x = np.zeros_like(b)\n",
    "    xold = np.zeros_like(b)\n",
    "    converged = False\n",
    "    it = 0\n",
    "    err = None\n",
    "        \n",
    "    # Loop to normalize by the diagonal element\n",
    "    for i in range(n):\n",
    "        aii = A[i,i]\n",
    "        for j in range(n):\n",
    "            A[i,j] /= aii\n",
    "        b[i] /= aii\n",
    "        \n",
    "    # now iterate until convergence\n",
    "    for it in range( maxiter):\n",
    "        xold[:] = x[:]\n",
    "        for i in range(n):\n",
    "            xi = b[i]\n",
    "            for j in range(n):\n",
    "                if i == j:\n",
    "                    continue\n",
    "                if method == 'jacobi':\n",
    "                    xi -= A[i,j] * xold[j]\n",
    "                elif method == 'gauss-seidel':\n",
    "                    xi -= A[i,j] * x[j]                \n",
    "            x[i] = lam * xi + (1.0 - lam) * xold[i]\n",
    "\n",
    "        if not converged:\n",
    "            err = abs(x - xold) / x\n",
    "            if np.linalg.norm(err) < tol:\n",
    "                converged = True\n",
    "\n",
    "        else:\n",
    "            break\n",
    "\n",
    "    return converged, it, x, err"
   ]
  },
  {
   "cell_type": "code",
   "execution_count": 1,
   "metadata": {},
   "outputs": [],
   "source": [
    "def plot_fxs(maxiters, method, relax):\n",
    "    \n",
    "    # define the coefficient matrix, [A], and right-hand side vector, {b}\n",
    "    #A = np.array([[10, 2, -1], [4, 8, 1], [-1, 3, 6]], dtype='float')\n",
    "    #b = np.array([5, -3, 9], dtype='float')\n",
    "    A = np.array([[3, -1, 1], [-1, 3, -1], [1, -1, 3]], dtype='float')\n",
    "    b = np.array([-1, 7, -7], dtype='float')\n",
    "    \n",
    "    # pretty print our equations\n",
    "    print(\"System of equations:\")\n",
    "    for i in range(A.shape[0]):\n",
    "        row = [\"{0:3g}*x{1}\".format(A[i, j], j + 1) for j in range(A.shape[1])]\n",
    "        print(\"{0} = {1:3g}\".format(\" + \".join(row), b[i]))\n",
    "    \n",
    "    # call our gauss-seidel solver\n",
    "    converged, it, x, err = gauss_seidel(A, b, lam=relax, method=method, maxiter=maxiters)\n",
    "    \n",
    "    # pretty print the results\n",
    "    print(\"Converged?  {0}\".format(converged))\n",
    "    print(\"Iteration {0}\".format(it))\n",
    "    print(\"Solution: {0}\".format(np.round(x,4)))\n",
    "    error = np.dot(A, x) - b\n",
    "    print(\"Error: {0}\".format(err,4))\n",
    "    \n",
    "    # compare to built-in solver\n",
    "    x_t = np.linalg.solve(A, b)\n",
    "    print(\"Solution from linalg: \", x_t)"
   ]
  },
  {
   "cell_type": "code",
   "execution_count": 2,
   "metadata": {},
   "outputs": [
    {
     "ename": "NameError",
     "evalue": "name 'interact' is not defined",
     "output_type": "error",
     "traceback": [
      "\u001b[1;31m---------------------------------------------------------------------------\u001b[0m",
      "\u001b[1;31mNameError\u001b[0m                                 Traceback (most recent call last)",
      "\u001b[1;32m<ipython-input-2-24606264f5e0>\u001b[0m in \u001b[0;36m<module>\u001b[1;34m()\u001b[0m\n\u001b[1;32m----> 1\u001b[1;33m w = interact(plot_fxs, method={'jacobi':'jacobi', \n\u001b[0m\u001b[0;32m      2\u001b[0m                                'gauss-seidel':'gauss-seidel'}, \n\u001b[0;32m      3\u001b[0m              maxiters=(1,50,1), relax=(0.5,2,0.05))\n",
      "\u001b[1;31mNameError\u001b[0m: name 'interact' is not defined"
     ]
    }
   ],
   "source": [
    "w = interact(plot_fxs, method={'jacobi':'jacobi', \n",
    "                               'gauss-seidel':'gauss-seidel'}, \n",
    "             maxiters=(1,50,1), relax=(0.5,2,0.05))"
   ]
  },
  {
   "cell_type": "code",
   "execution_count": null,
   "metadata": {},
   "outputs": [],
   "source": []
  }
 ],
 "metadata": {
  "kernelspec": {
   "display_name": "Python 3",
   "language": "python",
   "name": "python3"
  },
  "language_info": {
   "codemirror_mode": {
    "name": "ipython",
    "version": 3
   },
   "file_extension": ".py",
   "mimetype": "text/x-python",
   "name": "python",
   "nbconvert_exporter": "python",
   "pygments_lexer": "ipython3",
   "version": "3.6.5"
  }
 },
 "nbformat": 4,
 "nbformat_minor": 2
}
