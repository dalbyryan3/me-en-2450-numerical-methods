{
 "cells": [
  {
   "cell_type": "code",
   "execution_count": 603,
   "metadata": {},
   "outputs": [
    {
     "data": {
      "text/html": [
       "<script type=\"text/javascript\">window.PlotlyConfig = {MathJaxConfig: 'local'};</script><script type=\"text/javascript\">if (window.MathJax) {MathJax.Hub.Config({SVG: {font: \"STIX-Web\"}});}</script><script>requirejs.config({paths: { 'plotly': ['https://cdn.plot.ly/plotly-latest.min']},});if(!window._Plotly) {require(['plotly'],function(plotly) {window._Plotly=plotly;});}</script>"
      ],
      "text/vnd.plotly.v1+html": [
       "<script type=\"text/javascript\">window.PlotlyConfig = {MathJaxConfig: 'local'};</script><script type=\"text/javascript\">if (window.MathJax) {MathJax.Hub.Config({SVG: {font: \"STIX-Web\"}});}</script><script>requirejs.config({paths: { 'plotly': ['https://cdn.plot.ly/plotly-latest.min']},});if(!window._Plotly) {require(['plotly'],function(plotly) {window._Plotly=plotly;});}</script>"
      ]
     },
     "metadata": {},
     "output_type": "display_data"
    }
   ],
   "source": [
    "from plotly.offline import download_plotlyjs, init_notebook_mode, plot, iplot\n",
    "import plotly.graph_objs as go\n",
    "init_notebook_mode(connected=True)"
   ]
  },
  {
   "cell_type": "code",
   "execution_count": 604,
   "metadata": {},
   "outputs": [],
   "source": [
    "from __future__ import print_function\n",
    "from ipywidgets import interact, interactive, fixed, interact_manual\n",
    "import ipywidgets as widgets"
   ]
  },
  {
   "cell_type": "code",
   "execution_count": 605,
   "metadata": {},
   "outputs": [],
   "source": [
    "import numpy as np\n",
    "import math"
   ]
  },
  {
   "cell_type": "code",
   "execution_count": 606,
   "metadata": {},
   "outputs": [],
   "source": [
    "def bck_power_iteration(A, num_iters):\n",
    "    \n",
    "    eigenvec = np.random.rand(A.shape[1])\n",
    "\n",
    "    for i in range(num_iters):\n",
    "        # calculate the Ab\n",
    "        b = np.dot(A, eigenvec)\n",
    "\n",
    "        # calculate the norm\n",
    "        eigenval = np.linalg.norm(b)\n",
    "\n",
    "        # normalize the eigenvector\n",
    "        eigenvec = b / eigenval\n",
    "\n",
    "    return eigenval, eigenvec"
   ]
  },
  {
   "cell_type": "code",
   "execution_count": 607,
   "metadata": {},
   "outputs": [],
   "source": [
    "def power_iteration(A, num_iters):\n",
    "    \n",
    "    eigenvec = np.random.rand(A.shape[1])\n",
    "    \n",
    "    # class enters code here\n",
    "    #\n",
    "    \n",
    "    \n",
    "    #\n",
    "    \n",
    "    return eigenval, eigenvec"
   ]
  },
  {
   "cell_type": "code",
   "execution_count": 608,
   "metadata": {},
   "outputs": [],
   "source": [
    "def earthquake(k1, k2, k3, m1, m2, m3):\n",
    "        \n",
    "    # define the building system matrix\n",
    "    A = np.array([[(k1+k2)/m1, -k2/m1,      0],\n",
    "                  [ -k2/m2,    (k2+k3)/m2,  -k3/m2],\n",
    "                  [ 0,         -k3/m3,      k3/m3]])\n",
    "    \n",
    "    return A"
   ]
  },
  {
   "cell_type": "code",
   "execution_count": 609,
   "metadata": {},
   "outputs": [],
   "source": [
    "def get_eig_scatter(eigenvals, eigenvecs, mode_num, do_power=False):\n",
    "    \n",
    "    # floor height for plotting purposes\n",
    "    h = 10.0\n",
    "    \n",
    "    # normalize eigenvectors for plotting purposes\n",
    "    # such that component for 3rd floor is 1\n",
    "    num_floors = eigenvecs.shape[0]\n",
    "    if do_power:\n",
    "        for i in range(num_floors):\n",
    "            eigenvecs[i] /= eigenvecs[-1]\n",
    "    else:\n",
    "        for i in range(num_floors):\n",
    "            eigenvecs[:,i] /= eigenvecs[-1,i]\n",
    "    \n",
    "    x_vals = np.empty(num_floors + 1)\n",
    "    x_vals[0] = 0\n",
    "    if do_power:\n",
    "        x_vals[1:] = eigenvecs[:]\n",
    "    else:\n",
    "        x_vals[1:] = eigenvecs[:, (num_floors-1) - mode_num]\n",
    "    y_vals = np.array([0, 1*h, 2*h, 3*h], dtype='float')\n",
    "    plot_name = \"deformation mode #\" + str(mode_num)\n",
    "    \n",
    "    return go.Scatter(name=plot_name, x=x_vals, y=y_vals)\n",
    "    "
   ]
  },
  {
   "cell_type": "code",
   "execution_count": 610,
   "metadata": {},
   "outputs": [],
   "source": [
    "def plot_modes(mode_num, num_iters, k1, k2, k3, m1, m2, m3, power):\n",
    "\n",
    "    A = earthquake(k1, k2, k3, m1, m2, m3)\n",
    "  \n",
    "    # use numpy to solve eigenvalues and eigenvectors\n",
    "    eigenvals, eigenvecs = np.linalg.eig(A)\n",
    "    \n",
    "    omega_n = np.sqrt(eigenvals) / (2.0 * math.pi)\n",
    "        \n",
    "    num_floors = eigenvecs.shape[0]\n",
    "    print(\"eigenvalue = \\n\", eigenvals[(num_floors-1) - mode_num])\n",
    "    print(\"eigenvectors = \\n\", eigenvecs[:, (num_floors-1) - mode_num])\n",
    "    print(\"Resonant frequency all modes = \\n\", omega_n)\n",
    "\n",
    "    evec_vals = get_eig_scatter(eigenvals, eigenvecs, mode_num)\n",
    "    \n",
    "    # get the largest eigenvalue-eigenvector pair from our power_iteration function\n",
    "    if mode_num == 2:\n",
    "        power_eigenval, power_eigenvec = bck_power_iteration(A, num_iters)\n",
    "    elif mode_num == 0:\n",
    "        power_eigenval, power_eigenvec = bck_power_iteration(np.linalg.inv(A), num_iters)\n",
    "        \n",
    "    if mode_num in [0,2] and power==True:\n",
    "        print(\"Power eigenvalues = \\n\", power_eigenval)\n",
    "        print(\"Power eigenvectors = \\n\", power_eigenvec)\n",
    "        power_evec_vals = get_eig_scatter(power_eigenval, power_eigenvec, mode_num, do_power=True)\n",
    "        iplot([evec_vals, power_evec_vals])\n",
    "    else:\n",
    "        iplot([evec_vals])"
   ]
  },
  {
   "cell_type": "code",
   "execution_count": 611,
   "metadata": {},
   "outputs": [
    {
     "data": {
      "application/vnd.jupyter.widget-view+json": {
       "model_id": "f260a585cf3d4a5f823f1a1d05b80609",
       "version_major": 2,
       "version_minor": 0
      },
      "text/plain": [
       "interactive(children=(Dropdown(description='mode_num', options=(0, 1, 2), value=0), IntSlider(value=10, descri…"
      ]
     },
     "metadata": {},
     "output_type": "display_data"
    }
   ],
   "source": [
    "w = interact(plot_modes, mode_num=[0, 1, 2], num_iters=(1,20,1), power=[True,False],\n",
    "             k1=(1e6, 10e6, 1e6), k2=(1e6, 10e6, 1e6), k3=(1e6, 10e6, 1e6), \n",
    "             m1=(5e3,15e3,1e3), m2=(5e3,15e3,1e3), m3=(5e3,15e3,1e3))"
   ]
  },
  {
   "cell_type": "code",
   "execution_count": null,
   "metadata": {},
   "outputs": [],
   "source": []
  }
 ],
 "metadata": {
  "kernelspec": {
   "display_name": "Python 3",
   "language": "python",
   "name": "python3"
  },
  "language_info": {
   "codemirror_mode": {
    "name": "ipython",
    "version": 3
   },
   "file_extension": ".py",
   "mimetype": "text/x-python",
   "name": "python",
   "nbconvert_exporter": "python",
   "pygments_lexer": "ipython3",
   "version": "3.7.1"
  }
 },
 "nbformat": 4,
 "nbformat_minor": 2
}
